{
 "cells": [
  {
   "cell_type": "markdown",
   "metadata": {},
   "source": [
    "##      Tic-Tac-Toe\n",
    "\n",
    "Tic-tac-toe (American English), noughts and crosses (British English), or Xs and Os is a paper-and-pencil game for two players, \n",
    "X and O, who take turns marking the spaces in a 3×3 grid. The player who succeeds in placing three of their marks in a horizontal,\n",
    "vertical, or diagonal row wins the game"
   ]
  },
  {
   "cell_type": "markdown",
   "metadata": {},
   "source": [
    "#### Preparing 3X3 Board"
   ]
  },
  {
   "cell_type": "code",
   "execution_count": 1,
   "metadata": {},
   "outputs": [],
   "source": [
    "def display_board(board):\n",
    "    print(' ' + board[7] + ' | ' + board[8] + ' | ' + board[9])\n",
    "    print('-----------')\n",
    "    print(' ' + board[4] + ' | ' + board[5] + ' | ' + board[6])\n",
    "    print('-----------')\n",
    "    print(' ' + board[1] + ' | ' + board[2] + ' | ' + board[3])"
   ]
  },
  {
   "cell_type": "markdown",
   "metadata": {},
   "source": [
    "#### Check how the board looks"
   ]
  },
  {
   "cell_type": "code",
   "execution_count": 2,
   "metadata": {},
   "outputs": [
    {
     "name": "stdout",
     "output_type": "stream",
     "text": [
      "   |   |  \n",
      "-----------\n",
      "   |   |  \n",
      "-----------\n",
      "   |   |  \n"
     ]
    }
   ],
   "source": [
    "display_board([' ']*10)"
   ]
  },
  {
   "cell_type": "markdown",
   "metadata": {},
   "source": [
    "#### Function to ask Player 1 to choose his marker and assign the next marker value to the player 2"
   ]
  },
  {
   "cell_type": "code",
   "execution_count": 3,
   "metadata": {},
   "outputs": [],
   "source": [
    "def player_input():\n",
    "    marker = ''\n",
    "    \n",
    "    while not(marker=='X' or marker =='O'):\n",
    "        marker = input('Player1:choose your marker ').upper()\n",
    "        \n",
    "    if marker =='X':\n",
    "        return ('X','O')\n",
    "    else:\n",
    "        return ('O','X')"
   ]
  },
  {
   "cell_type": "markdown",
   "metadata": {},
   "source": [
    "#### Function to check if board is full or have spaces"
   ]
  },
  {
   "cell_type": "code",
   "execution_count": 4,
   "metadata": {},
   "outputs": [],
   "source": [
    "def space_check(board, position):\n",
    "    return board[position] == ' '"
   ]
  },
  {
   "cell_type": "markdown",
   "metadata": {},
   "source": [
    "####  Function to ask the player to choose the position to place the marker"
   ]
  },
  {
   "cell_type": "code",
   "execution_count": 5,
   "metadata": {},
   "outputs": [],
   "source": [
    "def player_choice(board):\n",
    "    position = 0\n",
    "    \n",
    "    while position not in [1,2,3,4,5,6,7,8,9] or not space_check(board,position):\n",
    "        position = int(input('choose your next position'))\n",
    "    return position"
   ]
  },
  {
   "cell_type": "markdown",
   "metadata": {},
   "source": [
    "#### Function to check if the board is full"
   ]
  },
  {
   "cell_type": "code",
   "execution_count": 6,
   "metadata": {},
   "outputs": [],
   "source": [
    "def full_board_check(board):\n",
    "    for i in range(1,10):\n",
    "        if space_check(board, i):\n",
    "            return False\n",
    "    return True"
   ]
  },
  {
   "cell_type": "markdown",
   "metadata": {},
   "source": [
    "#### Function to place the marker"
   ]
  },
  {
   "cell_type": "code",
   "execution_count": 7,
   "metadata": {},
   "outputs": [],
   "source": [
    "def place_marker(board, marker, position): \n",
    "    board[position] = marker"
   ]
  },
  {
   "cell_type": "markdown",
   "metadata": {},
   "source": [
    "#### Function to check if any player won the game"
   ]
  },
  {
   "cell_type": "code",
   "execution_count": 8,
   "metadata": {},
   "outputs": [],
   "source": [
    "def win_check(board, mark):   \n",
    "    return ((board[7] == mark and board[8] == mark and board[9] == mark) or # across the top\n",
    "            (board[4] == mark and board[5] == mark and board[6] == mark) or # across the middle\n",
    "            (board[1] == mark and board[2] == mark and board[3] == mark) or # across the bottom\n",
    "            (board[7] == mark and board[4] == mark and board[1] == mark) or # down the middle\n",
    "            (board[8] == mark and board[5] == mark and board[2] == mark) or # down the middle\n",
    "            (board[9] == mark and board[6] == mark and board[3] == mark) or # down the right side\n",
    "            (board[7] == mark and board[5] == mark and board[3] == mark) or # diagonal\n",
    "            (board[9] == mark and board[5] == mark and board[1] == mark)) # diagonal"
   ]
  },
  {
   "cell_type": "markdown",
   "metadata": {},
   "source": [
    "#### Function to randomly choose first player to play"
   ]
  },
  {
   "cell_type": "code",
   "execution_count": 9,
   "metadata": {},
   "outputs": [],
   "source": [
    "import random\n",
    "\n",
    "def choose_first():\n",
    "    if random.randint(0, 1) ==0:\n",
    "        print(' Player 1 will play first')\n",
    "        return 'Player 1'\n",
    "    else:\n",
    "        print('Player 2 will play first')\n",
    "        return 'Player 2'"
   ]
  },
  {
   "cell_type": "markdown",
   "metadata": {},
   "source": [
    "#### Lets start the game !!!!"
   ]
  },
  {
   "cell_type": "code",
   "execution_count": null,
   "metadata": {},
   "outputs": [
    {
     "name": "stdout",
     "output_type": "stream",
     "text": [
      "Welcome to Tic Tac Toe!\n",
      "Player1:choose your marker X\n",
      " Player 1 will play first\n",
      "   |   |  \n",
      "-----------\n",
      "   |   |  \n",
      "-----------\n",
      "   |   |  \n",
      "choose your next position1\n",
      "   |   |  \n",
      "-----------\n",
      "   |   |  \n",
      "-----------\n",
      " X |   |  \n",
      "choose your next position3\n",
      "   |   |  \n",
      "-----------\n",
      "   |   |  \n",
      "-----------\n",
      " X |   | O\n",
      "choose your next position5\n",
      "   |   |  \n",
      "-----------\n",
      "   | X |  \n",
      "-----------\n",
      " X |   | O\n",
      "choose your next position9\n",
      "   |   | O\n",
      "-----------\n",
      "   | X |  \n",
      "-----------\n",
      " X |   | O\n",
      "choose your next position2\n",
      "   |   | O\n",
      "-----------\n",
      "   | X |  \n",
      "-----------\n",
      " X | X | O\n",
      "choose your next position4\n",
      "   |   | O\n",
      "-----------\n",
      " O | X |  \n",
      "-----------\n",
      " X | X | O\n",
      "choose your next position6\n",
      "   |   | O\n",
      "-----------\n",
      " O | X | X\n",
      "-----------\n",
      " X | X | O\n",
      "choose your next position7\n",
      " O |   | O\n",
      "-----------\n",
      " O | X | X\n",
      "-----------\n",
      " X | X | O\n",
      "choose your next position8\n",
      " O | X | O\n",
      "-----------\n",
      " O | X | X\n",
      "-----------\n",
      " X | X | O\n",
      "Congratulation! Player 1\n",
      "Player1:choose your marker X\n",
      "Player 2 will play first\n",
      "   |   |  \n",
      "-----------\n",
      "   |   |  \n",
      "-----------\n",
      "   |   |  \n",
      "choose your next position1\n",
      "   |   |  \n",
      "-----------\n",
      "   |   |  \n",
      "-----------\n",
      " O |   |  \n",
      "choose your next position2\n",
      "   |   |  \n",
      "-----------\n",
      "   |   |  \n",
      "-----------\n",
      " O | X |  \n",
      "choose your next position3\n",
      "   |   |  \n",
      "-----------\n",
      "   |   |  \n",
      "-----------\n",
      " O | X | O\n",
      "choose your next position4\n",
      "   |   |  \n",
      "-----------\n",
      " X |   |  \n",
      "-----------\n",
      " O | X | O\n",
      "choose your next position5\n",
      "   |   |  \n",
      "-----------\n",
      " X | O |  \n",
      "-----------\n",
      " O | X | O\n",
      "choose your next position6\n",
      "   |   |  \n",
      "-----------\n",
      " X | O | X\n",
      "-----------\n",
      " O | X | O\n",
      "choose your next position7\n",
      " O |   |  \n",
      "-----------\n",
      " X | O | X\n",
      "-----------\n",
      " O | X | O\n",
      "Congratulation! Player 2\n",
      "Player1:choose your marker 8\n",
      "Player1:choose your marker O\n",
      " Player 1 will play first\n",
      "   |   |  \n",
      "-----------\n",
      "   |   |  \n",
      "-----------\n",
      "   |   |  \n",
      "choose your next position1\n",
      "   |   |  \n",
      "-----------\n",
      "   |   |  \n",
      "-----------\n",
      " O |   |  \n",
      "choose your next position2\n",
      "   |   |  \n",
      "-----------\n",
      "   |   |  \n",
      "-----------\n",
      " O | X |  \n",
      "choose your next position5\n",
      "   |   |  \n",
      "-----------\n",
      "   | O |  \n",
      "-----------\n",
      " O | X |  \n",
      "choose your next position3\n",
      "   |   |  \n",
      "-----------\n",
      "   | O |  \n",
      "-----------\n",
      " O | X | X\n",
      "choose your next position6\n",
      "   |   |  \n",
      "-----------\n",
      "   | O | O\n",
      "-----------\n",
      " O | X | X\n",
      "choose your next position4\n",
      "   |   |  \n",
      "-----------\n",
      " X | O | O\n",
      "-----------\n",
      " O | X | X\n",
      "choose your next position8\n",
      "   | O |  \n",
      "-----------\n",
      " X | O | O\n",
      "-----------\n",
      " O | X | X\n",
      "choose your next position9\n",
      "   | O | X\n",
      "-----------\n",
      " X | O | O\n",
      "-----------\n",
      " O | X | X\n",
      "choose your next position7\n",
      "Draw\n"
     ]
    }
   ],
   "source": [
    "print('Welcome to Tic Tac Toe!')\n",
    "\n",
    "while True:\n",
    "    theBoard = [' '] * 10\n",
    "    player1_marker,player2_marker  = player_input()\n",
    "    turn = choose_first()\n",
    "    game_on = True\n",
    "    \n",
    "    while game_on:\n",
    "        if turn == 'Player 1':\n",
    "            display_board(theBoard)\n",
    "            position = player_choice(theBoard)\n",
    "            place_marker(theBoard, player1_marker, position)\n",
    "            \n",
    "            if win_check(theBoard, player1_marker):\n",
    "                display_board(theBoard)\n",
    "                print('Congratulation! Player 1')\n",
    "                game_on =False\n",
    "            else:\n",
    "                if full_board_check(theBoard):\n",
    "                    print('Draw')\n",
    "                    break\n",
    "                else:\n",
    "                    turn = 'Player 2'\n",
    "        \n",
    "        \n",
    "        else:\n",
    "            display_board(theBoard)\n",
    "            position = player_choice(theBoard)\n",
    "            place_marker(theBoard, player2_marker, position)\n",
    "            \n",
    "            if win_check(theBoard, player2_marker):\n",
    "                display_board(theBoard)\n",
    "                print('Congratulation! Player 2')\n",
    "                game_on = False\n",
    "            else:\n",
    "                if full_board_check(theBoard):\n",
    "                    print('Draw')\n",
    "                    break\n",
    "                else:\n",
    "                    turn = 'Player 1'\n",
    "    "
   ]
  },
  {
   "cell_type": "code",
   "execution_count": null,
   "metadata": {},
   "outputs": [],
   "source": []
  }
 ],
 "metadata": {
  "kernelspec": {
   "display_name": "Python 3",
   "language": "python",
   "name": "python3"
  },
  "language_info": {
   "codemirror_mode": {
    "name": "ipython",
    "version": 3
   },
   "file_extension": ".py",
   "mimetype": "text/x-python",
   "name": "python",
   "nbconvert_exporter": "python",
   "pygments_lexer": "ipython3",
   "version": "3.7.0"
  }
 },
 "nbformat": 4,
 "nbformat_minor": 2
}
